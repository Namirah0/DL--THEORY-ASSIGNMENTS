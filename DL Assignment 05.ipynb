{
 "cells": [
  {
   "cell_type": "code",
   "execution_count": null,
   "id": "92411807",
   "metadata": {},
   "outputs": [],
   "source": [
    "1. Why would you want to use the Data API?\n",
    "Ans: APIs are needed to bring applications together in order to perform a designed function built around sharing data and \n",
    "    executing pre-defined processes. They work as the middle man, allowing developers to build new programmatic interactions \n",
    "    between the various applications people and businesses use on a daily basis."
   ]
  },
  {
   "cell_type": "code",
   "execution_count": null,
   "id": "6415b7e4",
   "metadata": {},
   "outputs": [],
   "source": [
    "2. What are the benefits of splitting a large dataset into multiple files?\n",
    "Ans: Splitting a shared database can help improve its performance and reduce the chance of database file corruption. After you \n",
    "    split database, you may decide to move the back-end database, or to use a different back-end database."
   ]
  },
  {
   "cell_type": "code",
   "execution_count": null,
   "id": "983b8303",
   "metadata": {},
   "outputs": [],
   "source": [
    "3. During training, how can you tell that your input pipeline is the bottleneck? What can you do to fix it?\n",
    "Ans: A CPU bottleneck occurs when the GPU resource is under utilized as a result of one, or more of the CPUs, having reached \n",
    "    maximum utilization. In this situation, the GPU will be partially idle while it waits for the CPU to pass in training data."
   ]
  },
  {
   "cell_type": "code",
   "execution_count": null,
   "id": "25ac79c9",
   "metadata": {},
   "outputs": [],
   "source": [
    "4. Can you save any binary data to a TFRecord file, or only serialized protocol buffers?\n",
    "Ans: A TFRecord is a sequence of bytes, so we have to turn our data into byte-strings before it can go into a TFRecord. We can \n",
    "    use tf.io.serialize_tensor to turn a tensor into a byte-string and tf.io.parse_tensor to turn it back. It's important to \n",
    "    keep track of your tensor's datatype (in this case tf.uint8) since you have to specify it when parsing the string back to a \n",
    "    tensor again."
   ]
  },
  {
   "cell_type": "code",
   "execution_count": null,
   "id": "f6356cb5",
   "metadata": {},
   "outputs": [],
   "source": [
    "5. Why would you go through the hassle of converting all your data to the Example protobuf format? Why not use your own \n",
    "protobuf definition?\n",
    "Ans:Protocol buffers are a method of serializing data that can be transmitted over wire or be stored in files. The other formats like JSON and XML are also used for serializing data. Although these platforms have proved themselves to be extremely flexible and effective, one place where they aren’t fully optimized is scenarios where the data is to be transmitted between multiple microservices in a platform-neutral way."
   ]
  },
  {
   "cell_type": "code",
   "execution_count": null,
   "id": "b33c3868",
   "metadata": {},
   "outputs": [],
   "source": [
    "6. When using TFRecords, when would you want to activate compression? Why not do it systematically?\n",
    "Ans: n the following, we’ll use artificial data to go over the concept behind TFRecord files. With this in mind, we can then go\n",
    "    on to work with images; we will use both a small and a large dataset. Expanding our knowledge, we then work with audio data.\n",
    "    The last large domain is the text domain, which we’ll cover as well. To combine all this, we create an artificial \n",
    "    multi-data-type dataset and, you guessed it, write it to TFRecords as well."
   ]
  }
 ],
 "metadata": {
  "kernelspec": {
   "display_name": "Python 3 (ipykernel)",
   "language": "python",
   "name": "python3"
  },
  "language_info": {
   "codemirror_mode": {
    "name": "ipython",
    "version": 3
   },
   "file_extension": ".py",
   "mimetype": "text/x-python",
   "name": "python",
   "nbconvert_exporter": "python",
   "pygments_lexer": "ipython3",
   "version": "3.9.7"
  }
 },
 "nbformat": 4,
 "nbformat_minor": 5
}
