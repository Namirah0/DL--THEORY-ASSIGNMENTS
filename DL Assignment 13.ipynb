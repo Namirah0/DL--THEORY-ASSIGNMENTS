{
 "cells": [
  {
   "cell_type": "code",
   "execution_count": null,
   "id": "3355e900",
   "metadata": {},
   "outputs": [],
   "source": [
    "1. Why is it generally preferable to use a Logistic Regression classifier rather than a classical Perceptron (i.e., a single \n",
    "layer of linear threshold units trained using the Perceptron training algorithm)? How can you tweak a Perceptron to make it \n",
    "equivalent to a Logistic Regression classifier?\n",
    "Ans: A classical perceptron will only converge if the data is linearly seperable. It also cannot compute class probabilities.\n",
    "    The logistic regression classifier is able to converge on non-linear data and outputs class probabilities.\n",
    "\n",
    "If you want to tweak the Perceptron to make it like a logistic regression classifier you can do so by changing the activation \n",
    "function to the softmax or the sigmoid function and train it using gradient descent, or some other optimization algorithm."
   ]
  },
  {
   "cell_type": "code",
   "execution_count": null,
   "id": "8d40ffc9",
   "metadata": {},
   "outputs": [],
   "source": [
    "2. Why was the logistic activation function a key ingredient in training the first MLPs?\n",
    "Ans: The logistic activation function is smooth at all points. Therefore, its derivative is always non-zero. This allows \n",
    "    gradient descent to find smaller values of theta after each iteration. When the activation function is a step function, \n",
    "    gradient descent cannot move at all because there is no slope."
   ]
  },
  {
   "cell_type": "code",
   "execution_count": null,
   "id": "75c8fa88",
   "metadata": {},
   "outputs": [],
   "source": [
    "3. Name three popular activation functions. Can you draw them?\n",
    "Ans: Tanh, Relu, Sigmoid."
   ]
  },
  {
   "cell_type": "code",
   "execution_count": null,
   "id": "ada35085",
   "metadata": {},
   "outputs": [],
   "source": [
    "4. Suppose you have an MLP composed of one input layer with 10 passthrough neurons, followed by one hidden layer with 50 \n",
    "artificial neurons, and finally one output layer with 3 artificial neurons. All artificial neurons use the ReLU activation \n",
    "function.\n",
    "\n",
    "A. What is the shape of the input matrix X?\n",
    "Ans: The shape of X will be (m x 10) where m is the batch size. The logic of a passthrough neuron is that it should have no \n",
    "    effect at all on the input layer. Therefore, there must be one neuron for each input feature that allows the input feature \n",
    "    to pass through to the next layer without altering its value in any way.\n",
    "\n",
    "B.What about the shape of the hidden layer’s weight vector Wh, and the shape of its bias vector bh?\n",
    "Ans: Since the hidden layer has 50 neurons and there are 10 features, its weight vector will have the shape of 10 x 50. Because\n",
    "    each of the 10 features will need to be multiplied by a weight which is connected to each of the 50 hidden layer neurons.\n",
    "\n",
    "The bias vector will have a length of 50. This is because one bias unit is added to the output of the passthrough layer. That \n",
    "unit is then multiplied once for each of the 50 artificial neurons.\n",
    "\n",
    "C.What is the shape of the output layer’s weight vector Wo, and its bias vector bo?\n",
    "Ans: The output layer has 3 neurons. The input to the output layer is the output of the hidden layer.The output of the hidden \n",
    "    layer has 50 neurons, therefore the shape of the output layer's weight vector is 50 x 3.\n",
    "\n",
    "The bias vector will have a length of 3 because one bias unit is added to the output of the hidden layer. That unit is then \n",
    "multiplied once for each of the 3 neurons in the output layer.\n",
    "\n",
    "D.What is the shape of the network’s output matrix Y?\n",
    "Ans: The shape of the output matrix is going to be m x 3, where m is the batch size, and 3 because each example will compute a\n",
    "probability that it belongs to one of three classes.\n",
    "\n",
    "E.Write the equation that computes the network’s output matrix Y as a function of X, Wh, bh, Wo and bo.\n",
    "Ans: Y = (X * Wh + bh) * (Wo + bo)\n",
    "\n",
    "When adding a bias vector to a matrix it is added to every single row. This is called broadcasting."
   ]
  },
  {
   "cell_type": "code",
   "execution_count": null,
   "id": "735a15ec",
   "metadata": {},
   "outputs": [],
   "source": [
    "5. How many neurons do you need in the output layer if you want to classify email into spam or ham? What activation function \n",
    "should you use in the output layer? If instead you want to tackle MNIST, how many neurons do you need in the output layer, \n",
    "using what activation function?\n",
    "Ans:Email classification is a binary classification problem, so you would only need one neuron in the output layer. This neuron\n",
    "    would indicate the probability that the email is spam or ham. You'd most likely use the sigmoid activation function in the \n",
    "    output layer.\n",
    "\n",
    "For the MNIST problem you would need 10 output neurons in the final layer, one for each digit. You would then replace the \n",
    "logistic function with the softmax function which can output one probability per class per digit.\n",
    "\n",
    "Predicting housing prices is a linear regression problem. You'd only need one output neuron in the final layer. You wouldn't \n",
    "need to use an activation function at all."
   ]
  },
  {
   "cell_type": "code",
   "execution_count": null,
   "id": "2cc208d2",
   "metadata": {},
   "outputs": [],
   "source": [
    "6. What is backpropagation and how does it work? What is the difference between backpropagation and reverse-mode autodiff?\n",
    "Ans: Backpropagation is an algorithm used to train neural networks. It first computes the gradients of the cost function with\n",
    "    regards to every model parameter then it performs a gradient descent step using these gradients.\n",
    "\n",
    "This backpropagation step is performed until the model parameters converge to values that hopefully minimize the cost function.\n",
    "\n",
    "Backpropagation refers to the whole process of training a neural network. Reverse-mode autodiff is a technique to compute the \n",
    "gradients efficiently. It is used by the backprop algorithm."
   ]
  },
  {
   "cell_type": "code",
   "execution_count": null,
   "id": "2fb9f6a0",
   "metadata": {},
   "outputs": [],
   "source": [
    "7. Can you list all the hyperparameters you can tweak in an MLP? If the MLP overfits the training data, how could you tweak \n",
    "these hyperparameters to try to solve the problem?\n",
    "Ans: In general, the hyperparameters of a neural network you can adjust are the number of hidden layers, the number of neurons\n",
    "    in each hidden layer, and the activation function used by each neuron.\n",
    "\n",
    "For binary classification, use the logistic activation function. For a multi-class problem, use softmax. For a linear \n",
    "regression problem, don't use an activation function.\n",
    "\n",
    "Some simple ways to try and solve overfitting are reducing the number of hidden layers or the number of neurons."
   ]
  },
  {
   "cell_type": "code",
   "execution_count": null,
   "id": "c41d3550",
   "metadata": {},
   "outputs": [],
   "source": [
    "8. Train a deep MLP on the MNIST dataset and see if you can get over 98% precision. Try adding all the bells and whistles\n",
    "(i.e., save checkpoints, restore the last checkpoint in case of an interruption, add summaries, plot learning curves using \n",
    " TensorBoard, and so on)."
   ]
  }
 ],
 "metadata": {
  "kernelspec": {
   "display_name": "Python 3 (ipykernel)",
   "language": "python",
   "name": "python3"
  },
  "language_info": {
   "codemirror_mode": {
    "name": "ipython",
    "version": 3
   },
   "file_extension": ".py",
   "mimetype": "text/x-python",
   "name": "python",
   "nbconvert_exporter": "python",
   "pygments_lexer": "ipython3",
   "version": "3.9.7"
  }
 },
 "nbformat": 4,
 "nbformat_minor": 5
}
