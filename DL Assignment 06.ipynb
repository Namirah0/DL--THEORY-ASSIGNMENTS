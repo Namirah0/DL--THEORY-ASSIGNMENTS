{
 "cells": [
  {
   "cell_type": "code",
   "execution_count": null,
   "id": "45845fb7",
   "metadata": {},
   "outputs": [],
   "source": [
    "1. What are the advantages of a CNN over a fully connected DNN for image classification?\n",
    "Ans: Because consecutive layers are only partially connected and because it heavily reuses its weights, a CNN has many fewer \n",
    "    parameters than a fully connected DNN, which makes it much faster to train, reduces the risk of overfitting, and requires \n",
    "    much less training data."
   ]
  },
  {
   "cell_type": "code",
   "execution_count": null,
   "id": "d3fe4df0",
   "metadata": {},
   "outputs": [],
   "source": [
    "2. If your GPU runs out of memory while training a CNN, what are five things you could try to solve the problem?\n",
    "Ans: If your GPU runs out of memory while training a CNN, what are five things you could try to solve the problem? Reduce the \n",
    "    mini-batch size. Reduce dimensionality using a larger stride in one or more layers. Remove one or more layers."
   ]
  },
  {
   "cell_type": "code",
   "execution_count": null,
   "id": "6a9f7bad",
   "metadata": {},
   "outputs": [],
   "source": [
    "3. Why would you want to add a max pooling layer rather than a convolutional layer with the same stride?\n",
    "Ans: Max-pooling helps in extracting low-level features like edges, points, etc. While Avg-pooling goes for smooth features. \n",
    "    If time constraint is not a problem, then one can skip the pooling layer and use a convolutional layer to do the same."
   ]
  },
  {
   "cell_type": "code",
   "execution_count": null,
   "id": "8f110f85",
   "metadata": {},
   "outputs": [],
   "source": [
    "4. When would you want to add a local response normalization layer?\n",
    "Ans: This is useful when we are dealing with ReLU neurons. ReLU neurons have unbounded activations, and we need local response\n",
    "    normalization (LRN) to normalize them. To do this, we need to identify high frequency features. By applying LRN, the \n",
    "    neurons becomes more sensitive than their neighbors."
   ]
  },
  {
   "cell_type": "code",
   "execution_count": null,
   "id": "84b29685",
   "metadata": {},
   "outputs": [],
   "source": [
    "5. Can you name the main innovations in AlexNet, compared to LeNet-5? What about the main innovations in GoogLeNet, ResNet, SENet, and Xception?\n",
    "Ans: The main innovations in AlexNet compared to LeNet-5 are (1) it is much larger and deeper, and (2) it stacks convolutional layers directly on top of each other, instead of stacking a pooling layer on top of each convolutional layer."
   ]
  },
  {
   "cell_type": "code",
   "execution_count": null,
   "id": "536c0128",
   "metadata": {},
   "outputs": [],
   "source": [
    "6. What is a fully convolutional network? How can you convert a dense layer into a convolutional layer?\n",
    "Ans: A fully convolution network can be built by simply replacing the FC layers with there equivalent Conv layers. In the \n",
    "    example of VGG16 we can do so by first removing the last four layers. One way to do so is to pop layers from the model. In\n",
    "    the model stack, each popping will remove the last layer."
   ]
  },
  {
   "cell_type": "code",
   "execution_count": null,
   "id": "f00d47e2",
   "metadata": {},
   "outputs": [],
   "source": [
    "7. What is the main technical difficulty of semantic segmentation?\n",
    "Ans: The over-reliance on accurate labeling makes the existing semantic segmentation methods difficult to be directly applied to imprecise or even unlabeled datasets."
   ]
  },
  {
   "cell_type": "code",
   "execution_count": null,
   "id": "e005ec06",
   "metadata": {},
   "outputs": [],
   "source": [
    "8. Build your own CNN from scratch and try to achieve the highest possible accuracy on MNIST.\n",
    "Ans: CNN is basically a model known to be Convolutional Neural Network and in recent times it has gained a lot of popularity because of its usefulness. CNN uses multilayer perceptrons to do computational works. CNN uses relatively little pre-processing compared to other image classification algorithms. This means the network learns through filters that in traditional algorithms were hand-engineered. So, for the image processing tasks CNNs are the best-suited option."
   ]
  }
 ],
 "metadata": {
  "kernelspec": {
   "display_name": "Python 3 (ipykernel)",
   "language": "python",
   "name": "python3"
  },
  "language_info": {
   "codemirror_mode": {
    "name": "ipython",
    "version": 3
   },
   "file_extension": ".py",
   "mimetype": "text/x-python",
   "name": "python",
   "nbconvert_exporter": "python",
   "pygments_lexer": "ipython3",
   "version": "3.9.7"
  }
 },
 "nbformat": 4,
 "nbformat_minor": 5
}
