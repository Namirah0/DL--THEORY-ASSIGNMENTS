{
 "cells": [
  {
   "cell_type": "code",
   "execution_count": null,
   "id": "c4a67f73",
   "metadata": {},
   "outputs": [],
   "source": [
    "1. Can you think of a few applications for a sequence-to-sequence RNN? What about a sequence-to-vector RNN, and a \n",
    "vector-to-sequence RNN?\n",
    "Ans: In Sequence to Sequence Learning, RNN is trained to map an input sequence to an output sequence which is not necessarily \n",
    "    of the same length. Applications are speech recognition, machine translation, image captioning and question answering."
   ]
  },
  {
   "cell_type": "code",
   "execution_count": null,
   "id": "c90ab2af",
   "metadata": {},
   "outputs": [],
   "source": [
    "2. How many dimensions must the inputs of an RNN layer have? What does each dimension represent? What about its outputs?\n",
    "Ans: Before we get down to business, an important thing to note is that the RNN input needs to have 3 dimensions. Typically it \n",
    "    would be batch size, the number of steps and number of features."
   ]
  },
  {
   "cell_type": "code",
   "execution_count": null,
   "id": "0d073fee",
   "metadata": {},
   "outputs": [],
   "source": [
    "3. If you want to build a deep sequence-to-sequence RNN, which RNN layers should have return_sequences=True? What about a \n",
    "sequence-to-vector RNN?\n",
    "Ans: Recurrent neural networks (RNN) are a class of neural networks that is powerful for modeling sequence data such as time \n",
    "    series or natural language.\n",
    "\n",
    "Schematically, a RNN layer uses a for loop to iterate over the timesteps of a sequence, while maintaining an internal state \n",
    "that encodes information about the timesteps it has seen so far.\n",
    "\n",
    "The Keras RNN API is designed with a focus on:\n",
    "\n",
    "Ease of use: the built-in keras.layers.RNN, keras.layers.LSTM, keras.layers.GRU layers enable you to quickly build recurrent \n",
    "    models without having to make difficult configuration choices.\n",
    "\n",
    "Ease of customization: You can also define your own RNN cell layer (the inner part of the for loop) with custom behavior, and \n",
    "    use it with the generic keras.layers.RNN layer (the for loop itself). This allows you to quickly prototype different \n",
    "    research ideas in a flexible way with minimal code."
   ]
  },
  {
   "cell_type": "code",
   "execution_count": null,
   "id": "e0e8be46",
   "metadata": {},
   "outputs": [],
   "source": [
    "4. Suppose you have a daily univariate time series, and you want to forecast the next seven days. Which RNN architecture \n",
    "should you use?\n",
    "Ans: The term univariate implies that forecasting is based on a sample of time series data where only one factor/variable is \n",
    "    responsible for the prediction values without considering other variables' effects—for example, predicting the price of \n",
    "    gold without considering the effect of marriage season in India.\n",
    "    Univariate Time-series Forecasting: only two variables in which one is time and the other is the field to forecast. \n",
    "    Multivariate Time-series Forecasting: contain multiple variables keeping one variable as time and others will be \n",
    "    multiple in parameters."
   ]
  },
  {
   "cell_type": "code",
   "execution_count": null,
   "id": "bdfac345",
   "metadata": {},
   "outputs": [],
   "source": [
    "5. What are the main difficulties when training RNNs? How can you handle them?\n",
    "Ans: RNNs suffer from the problem of vanishing gradients. The gradients carry information used in the RNN, and when the \n",
    "    gradient becomes too small, the parameter updates become insignificant. This makes the learning of long data sequences \n",
    "    difficult.\n",
    "    About training RNN/LSTM: RNN and LSTM are difficult to train because they require memory-bandwidth-bound computation, which\n",
    "    is the worst nightmare for hardware designer and ultimately limits the applicability of neural networks solutions"
   ]
  },
  {
   "cell_type": "code",
   "execution_count": null,
   "id": "795ac06a",
   "metadata": {},
   "outputs": [],
   "source": [
    "6. Can you sketch the LSTM cell’s architecture?\n",
    "Ans: LSTMs deal with both Long Term Memory (LTM) and Short Term Memory (STM) and for making the calculations simple and \n",
    "    effective it uses the concept of gates. Forget Gate: LTM goes to forget gate and it forgets information that is not useful."
   ]
  },
  {
   "cell_type": "code",
   "execution_count": null,
   "id": "3484624a",
   "metadata": {},
   "outputs": [],
   "source": [
    "7. Why would you want to use 1D convolutional layers in an RNN?\n",
    "Ans: Such 1D convolution layers can recognize local patterns in a sequence. Because the same input transformation is performed\n",
    "    on every patch, a pattern learned at a certain position in a sentence can later be recognized at a different position, \n",
    "    making 1D CNNs translation invariant (for temporal translations)."
   ]
  },
  {
   "cell_type": "code",
   "execution_count": null,
   "id": "aa7e7bc5",
   "metadata": {},
   "outputs": [],
   "source": [
    "8. Which neural network architecture could you use to classify videos?\n",
    "Ans: Stay organized with collections Save and categorize content based on your preferences. This tutorial demonstrates training\n",
    "    a 3D convolutional neural network (CNN) for video classification using the UCF101 action recognition dataset."
   ]
  },
  {
   "cell_type": "code",
   "execution_count": null,
   "id": "1e95f7e4",
   "metadata": {},
   "outputs": [],
   "source": [
    "9. Train a classification model for the SketchRNN dataset, available in TensorFlow Datasets. "
   ]
  }
 ],
 "metadata": {
  "kernelspec": {
   "display_name": "Python 3 (ipykernel)",
   "language": "python",
   "name": "python3"
  },
  "language_info": {
   "codemirror_mode": {
    "name": "ipython",
    "version": 3
   },
   "file_extension": ".py",
   "mimetype": "text/x-python",
   "name": "python",
   "nbconvert_exporter": "python",
   "pygments_lexer": "ipython3",
   "version": "3.9.7"
  }
 },
 "nbformat": 4,
 "nbformat_minor": 5
}
