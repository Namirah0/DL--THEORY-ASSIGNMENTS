{
 "cells": [
  {
   "cell_type": "code",
   "execution_count": null,
   "id": "cda2e37e",
   "metadata": {},
   "outputs": [],
   "source": [
    "1. What are the pros and cons of using a stateful RNN versus a stateless RNN?\n",
    "Ans: The benefits of using stateful RNNs are smaller network sizes and/or lower training times. The disadvantage is that we are\n",
    "    now responsible for training the network with a batch size that reflects the periodicity of the data, and resetting the \n",
    "    state after each epoch."
   ]
  },
  {
   "cell_type": "code",
   "execution_count": null,
   "id": "82d74ac0",
   "metadata": {},
   "outputs": [],
   "source": [
    "2. Why do people use Encoder–Decoder RNNs rather than plain sequence-to-sequence RNNs for automatic translation?\n",
    "Ans: This two-step model, called an Encoderâ€“Decoder, works much better than trying to translate on the fly with a single sequence-to-sequence RNN (like the one represented on the top left), since the last words of a sentence can affect the first words of the translation. "
   ]
  },
  {
   "cell_type": "code",
   "execution_count": null,
   "id": "8c54e353",
   "metadata": {},
   "outputs": [],
   "source": [
    "3. How can you deal with variable-length input sequences? What about variable-length output sequences?\n",
    "Ans: The most common way people deal with inputs of varying length is padding. You first define the desired sequence length, \n",
    "    i.e. the input length you want your model to have. Then any sequences with a shorter length than this are padded either \n",
    "    with zeros or with special characters so that they reach the desired length."
   ]
  },
  {
   "cell_type": "code",
   "execution_count": null,
   "id": "e4647d47",
   "metadata": {},
   "outputs": [],
   "source": [
    "4. What is beam search and why would you use it? What tool can you use to implement it?\n",
    "Ans: Beam search is an algorithm used in many NLP and speech recognition models as a final decision making layer to choose the\n",
    "    best output given target variables like maximum probability or next output character."
   ]
  },
  {
   "cell_type": "code",
   "execution_count": null,
   "id": "1f9d61cd",
   "metadata": {},
   "outputs": [],
   "source": [
    "5. What is an attention mechanism? How does it help?\n",
    "Ans: The idea behind the attention mechanism was to permit the decoder to utilize the most relevant parts of the input sequence\n",
    "    in a flexible manner, by a weighted combination of all the encoded input vectors, with the most relevant vectors being \n",
    "    attributed the highest weights."
   ]
  },
  {
   "cell_type": "code",
   "execution_count": null,
   "id": "d3643d7f",
   "metadata": {},
   "outputs": [],
   "source": [
    "6. What is the most important layer in the Transformer architecture? What is its purpose?\n",
    "Ans: The most important part here is the “Residual Connections” around the layers. This is very important in retaining the \n",
    "    position related information which we are adding to the input representation/embedding across the network. The network \n",
    "    displayed catastrophic results on removing the Residual Connections"
   ]
  },
  {
   "cell_type": "code",
   "execution_count": null,
   "id": "0008bcf5",
   "metadata": {},
   "outputs": [],
   "source": [
    "7. When would you need to use sampled softmax?\n",
    "Ans: Sampled softmax only makes sense if we sample(our V) less than vocabulary size. If your vocabulary(amount of labels) is \n",
    "    small, there is no point using sampled_softmax_loss ."
   ]
  }
 ],
 "metadata": {
  "kernelspec": {
   "display_name": "Python 3 (ipykernel)",
   "language": "python",
   "name": "python3"
  },
  "language_info": {
   "codemirror_mode": {
    "name": "ipython",
    "version": 3
   },
   "file_extension": ".py",
   "mimetype": "text/x-python",
   "name": "python",
   "nbconvert_exporter": "python",
   "pygments_lexer": "ipython3",
   "version": "3.9.7"
  }
 },
 "nbformat": 4,
 "nbformat_minor": 5
}
