{
 "cells": [
  {
   "cell_type": "code",
   "execution_count": null,
   "id": "29e754c3",
   "metadata": {},
   "outputs": [],
   "source": [
    "1. How would you describe TensorFlow in a short sentence? What are its main features? Can you name other popular Deep Learning\n",
    "libraries?\n",
    "Ans: TensorFlow is an open-source library developed by Google primarily for deep learning applications.\n",
    "    Some of the key features of TensorFlow are: Efficiently works with mathematical expressions involving multi-dimensional \n",
    "        arrays. Good support of deep neural networks and machine learning concepts. GPU/CPU computing where the same code can \n",
    "        be executed on both architectures."
   ]
  },
  {
   "cell_type": "code",
   "execution_count": null,
   "id": "a4dd947d",
   "metadata": {},
   "outputs": [],
   "source": [
    "Some of the key features of TensorFlow are: Efficiently works with mathematical expressions involving multi-dimensional arrays. \n",
    "Good support of deep neural networks and machine learning concepts. GPU/CPU computing where the same code can be executed on \n",
    "both architecture? \n",
    "Ans: TensorFlow is more than just a machine intelligence framework. It is packed with features and tools that make developing \n",
    "    and debugging machine learning systems easier than ever.\n",
    "\n",
    "In this article, Toptal Freelance Software Engineer Dino Causevic gives us an overview of TensorFlow and some auxiliary \n",
    "libraries to debug, visualize, and tweak the models created with it."
   ]
  },
  {
   "cell_type": "code",
   "execution_count": null,
   "id": "0098f120",
   "metadata": {},
   "outputs": [],
   "source": [
    "3. Do you get the same result with tf.range(10) and tf.constant(np.arange(10))?\n",
    "Ans: In TensorFlow the differences between constants and variables are that when you declare some constant, its value can't be\n",
    "    changed in the future (also the initialization should be with a value, not with operation). Nevertheless, when you declare \n",
    "    a Variable, you can change its value in the future with tf."
   ]
  },
  {
   "cell_type": "code",
   "execution_count": null,
   "id": "628a1f9b",
   "metadata": {},
   "outputs": [],
   "source": [
    "4. Can you name six other data structures available in TensorFlow, beyond regular tensors?\n",
    "Ans: Tensors are the basic data structures in TensorFlow, and they represent the connecting edges in a dataflow graph. A tensor simply identifies a multidimensional array or list. The tensor structure can be identified with three parameters: rank, shape, and type. Rank: Identifies the number of dimensions of the tensor."
   ]
  },
  {
   "cell_type": "code",
   "execution_count": null,
   "id": "b0e48344",
   "metadata": {},
   "outputs": [],
   "source": [
    "5. A custom loss function can be defined by writing a function or by subclassing the keras.losses.Loss class. When would you \n",
    "use each option?\n",
    "Ans: n deep learning, the loss is computed to get the gradients with respect to model weights and update those weights \n",
    "    accordingly via backpropagation. Loss is calculated and the network is updated after every iteration until model updates \n",
    "    don’t bring any improvement in the desired evaluation metric. \n",
    "\n",
    "So while you keep using the same evaluation metric like f1 score or AUC on the validation set during (long parts) of your \n",
    "machine learning project, the loss can be changed, adjusted and modified to get the best evaluation metric performance.\n",
    "\n"
   ]
  },
  {
   "cell_type": "code",
   "execution_count": null,
   "id": "dd117382",
   "metadata": {},
   "outputs": [],
   "source": [
    "6. Similarly, a custom metric can be defined in a function or a subclass of keras.metrics.Metric. When would you use each \n",
    "option?\n",
    "Ans: Keras metrics are functions that are used to evaluate the performance of your deep learning model. Choosing a good metric \n",
    "    for your problem is usually a difficult task.\n",
    "\n",
    "you need to understand which metrics are already available in Keras and tf.keras and how to use them,\n",
    "in many situations you need to define your own custom metric because the metric you are looking for doesn’t ship with Keras.\n",
    "sometimes you want to monitor model performance by looking at charts like ROC curve or Confusion Matrix after every epoch."
   ]
  },
  {
   "cell_type": "code",
   "execution_count": null,
   "id": "ffb1bc03",
   "metadata": {},
   "outputs": [],
   "source": [
    "7. When should you create a custom layer versus a custom model?\n",
    "Ans: If you are building a new model architecture using existing keras/tf layers then build a custom model. If you are \n",
    "    implementing your own custom tensor operations with in a layer, then build a custom layer."
   ]
  },
  {
   "cell_type": "code",
   "execution_count": null,
   "id": "d54cec5e",
   "metadata": {},
   "outputs": [],
   "source": [
    "8. What are some use cases that require writing your own custom training loop?\n",
    "Ans: Writing custom training loops will allow you to keep easier track of various exotic performance measures or build loss \n",
    "    functions that rely on information outside your direct batch of training inputs and labels. Consider it an extension to\n",
    "    your neural network toolbox."
   ]
  },
  {
   "cell_type": "code",
   "execution_count": null,
   "id": "3eaa20cc",
   "metadata": {},
   "outputs": [],
   "source": [
    "9. Can custom Keras components contain arbitrary Python code, or must they be convertible to TF Functions?\n",
    "Ans: They should be convertible to TF Functions. If you need to use arbitrary Python code, wrap it in tf. py_function() or \n",
    "    set dynamic=True when creating the custom layer or model."
   ]
  },
  {
   "cell_type": "code",
   "execution_count": null,
   "id": "05344489",
   "metadata": {},
   "outputs": [],
   "source": [
    "10. What are the main rules to respect if you want a function to be convertible to a TF Function?\n",
    "Ans: The main takeaways and recommendations are:\n",
    "Debug in eager mode, then decorate with @tf. function .\n",
    "Don't rely on Python side effects like object mutation or list appends.\n",
    "tf. function works best with TensorFlow ops; NumPy and Python calls are converted to constants."
   ]
  },
  {
   "cell_type": "code",
   "execution_count": null,
   "id": "96c06670",
   "metadata": {},
   "outputs": [],
   "source": [
    "11. When would you need to create a dynamic Keras model? How do you do that? Why not make all your models dynamic?\n",
    "Ans: Keras is a neural network Application Programming Interface (API) for Python that is tightly integrated with TensorFlow, \n",
    "    which is used to build machine learning models. Keras’ models offer a simple, user-friendly way to define a neural network, \n",
    "    which will then be built for you by TensorFlow. \n",
    "    The Sequential API is a framework for creating models based on instances of the sequential() class. The model has one input \n",
    "    variable, a hidden layer with two neurons, and an output layer with one binary output. Additional layers can be created and \n",
    "    added to the model.\n",
    "    "
   ]
  }
 ],
 "metadata": {
  "kernelspec": {
   "display_name": "Python 3 (ipykernel)",
   "language": "python",
   "name": "python3"
  },
  "language_info": {
   "codemirror_mode": {
    "name": "ipython",
    "version": 3
   },
   "file_extension": ".py",
   "mimetype": "text/x-python",
   "name": "python",
   "nbconvert_exporter": "python",
   "pygments_lexer": "ipython3",
   "version": "3.9.7"
  }
 },
 "nbformat": 4,
 "nbformat_minor": 5
}
